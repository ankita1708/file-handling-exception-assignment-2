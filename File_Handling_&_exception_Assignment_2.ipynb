{
  "nbformat": 4,
  "nbformat_minor": 0,
  "metadata": {
    "colab": {
      "provenance": []
    },
    "kernelspec": {
      "name": "python3",
      "display_name": "Python 3"
    },
    "language_info": {
      "name": "python"
    }
  },
  "cells": [
    {
      "cell_type": "code",
      "execution_count": null,
      "metadata": {
        "id": "GkW-lR8aISOK"
      },
      "outputs": [],
      "source": []
    },
    {
      "cell_type": "markdown",
      "source": [
        "# Theory Questions:\n",
        "# 1. what is the difference between interpreted and complied languages?\n",
        "- # The key difference between compiled and interpreted languages lines in how they excute: compiled languages are translated into machine code befprehand and then executed, while interpreted languages execute code line by line during runtime.\n",
        "# 2. what is exception handling in python?\n",
        "- # exception handling  is a programming mechanism that allows a program to respond to and recover from runtime errors or unexpected events, preventing crashes and maintaining the normal flow of execution.\n",
        "# 3. what is the purpose of the finally block in exception handling?\n",
        "- # the purpose of the finally block in exception handling to ensure that a specific block of code, typically cleanup or resource release tasks is executed regardless of whether an exception occured or not within the try.\n",
        "# 4 what is logging in python?\n",
        "- # in python, logging is a built-in module that allows you to track events, debug issues, and monitor the health of your applications by recording information about errors, warnings, and other events during program execution.\n",
        "# 5. what is the signifance of the del--method in python?\n",
        "- #  in python, the __del__() method, also known as a destructor or finalizer, is a special method that is automatically called by the garbage collector when an object is about to be destroyed, allowing for cleanup of resources before the object is deallocated.\n",
        "# 6. what is the difference between import and from import in python?\n",
        "- # the diffrence between import and from import in python is import imports an entire code libraary, from import imports a specific memeber or members of the library.\n",
        "# 7. how can you handle multiple exceptions in python?\n",
        "- # in python, you can handle multiple exceptions by using multiple except blocks within a try --- except structure, allowing you to specify different handling mechanisms for various error types.\n",
        "# 8. what is the purpose of the with statement when handling files in python?\n",
        "- # the with statement in python when used with file handling, ensures that a file is automatically closed after its operations are completre, even if errors occur, simplifying resource management and making code cleaner and more robust.\n",
        "# 9. what is the difference between multithreading and multiprocessing?\n",
        "- # in python, multithreading allows concurrent execution of tasks within a  single process, while multiprocessing enables parallel execution of tasks across multiple processes.\n",
        "# 10. what are the advantage of using logging in python?\n",
        "- # logging in python offers several advantages, including improved debugging,easier monitoring of application behavior and the ability to create audit trails.\n",
        "# 11. what is memory management in  python?\n",
        "- # in python, memory management is handled automatically by the python in terpreter using a private heap and mechanism like reference counting and garbage collection allowing developers to focus on code logic rather than memory allocation and deallocation.\n",
        "# 12. what are the basic step involved in exception handling in python?\n",
        "- # in python, exception handling involves using try, except, else and finally blocks to gracefully manage errors and prevent program crashes the try block contains code that might raise an exception, the expect block handles specific exceptions, the else block executes if no exception occurs and the finally block always executes for cleanup.\n",
        "# 13.why is memory management in python?\n",
        "- # memory management is crucial because it directly impacts program performance, resource usuages and potential issues like memory leaks, ensuring efficient and stable application execution.\n",
        "# 14. what is the role of try and except in exception handling?\n",
        "- # in exception handling the try, block contains code but might potentially raise an error, while the except block handles the error if one occurs within the try block allowing the program to continue running gracefully instead of crashing.\n",
        "# 15. how does python garbage collection system work/\n",
        "- #  python's garbage collection system automaticaly manages memory by reclaming memory occupied by objects that are no longer refrenced, primarily using refrence ciounting and a cycle garbage collector to handle circullar refrences.\n",
        "# 16. what is the purpose of else block in exception handling?\n",
        "-# the 'else' block is executed when there are no execptions raised within the try block. the 'else' block is useful when you want to perform specific actions when no exception occur. it can be used for example, to execute additional code if the 'try' block succeds in his operations.\n",
        "# 17.  what are the common logging level in python?\n",
        "- # there are six levels for logging in python, each level is associated with an integer that indicates the log severity, NOTSET=0, DEBUG=10, INFO=20,WARN=40, and CRITICAL=50.\n",
        "# 18.what is the difference between os.froke() and multiprocessing in python?\n",
        "- #the term process refers to a program that is in its execution mode here, fork() acts as a system call that helps in creating process. here is the difference between os fork and multiprocessing.\n",
        "# 19. what is the importance of a closing file in  python?\n",
        "- # closinhg files in python is an essential practice that helps maintain data integrity, prevent resource leaks, and ensure the reliability of your applications.\n",
        "# 20. what is the difference between file.read() and file.readline() in python?\n",
        "- # in python read() reads the entire file content as a single string. while readline() reads a single line from the file at a time. returning it as a string.\n",
        "# 21. what is the logging module in python?\n",
        "- # the logging module is used  track events, debug issues and monitor the health of applications by providing a flexib le  framework for capturing and storin hg information about events that occur during program execution, such as errors, warnings, and debugging messages.\n",
        "# 22 . what is the as module in python used for in file handling?\n",
        "- # python has a built- in os module with methods for interacting with the operating system, like creating files and directories management of files and directories,input,output,envirment varaibles.\n",
        "# 23. what are the challanges associated with memry management in python?\n",
        "- # python's automatic management while simplify development, present challenges like potential memory leaks due to circular refrences, performances overhead from garbage collection, and difficulty in optimizing memory usuage for specific applications.\n",
        "# 24. how do you raise an exception manually in python?\n",
        "- #  to manually raise an exception in python you can use the raise keyword this keyword allows you to throw an exception with a custom error message. in our example, we define a function called divided() that takes two numbers as argument and  divides them\n",
        "# 25. why is  it is important to use multithreading in certain application?\n",
        "- # multithreading is crucial for certain applications as it enables concurrent execution of tasks, leading to improved performance, better resource utilization, increased responsivness and enhanced scalability."
      ],
      "metadata": {
        "id": "485pCiFtId7c"
      }
    },
    {
      "cell_type": "code",
      "source": [
        "# 1. how can you open a file for writing in python and write a string to it?\n",
        "f=open(\"log.txt\",\"w\")\n",
        "# w if the file does not exist,it will be created.\n",
        "f.write(\"this is a log file\")\n",
        "\n",
        "f.write(\"\\nmy name is ankita agarwal\")\n",
        "f.close()"
      ],
      "metadata": {
        "id": "12WxTanwfazx"
      },
      "execution_count": 26,
      "outputs": []
    },
    {
      "cell_type": "code",
      "source": [
        "# 2. write a pyuthon program to read the contents of a file and print each line\n",
        "f=open(\"data.txt\",\"r\")\n",
        "print(f)\n",
        "data=f.read()\n",
        "print(\"data in the file:\",data)\n",
        "f.close()\n"
      ],
      "metadata": {
        "id": "F1y1qgqXfbnM",
        "colab": {
          "base_uri": "https://localhost:8080/"
        },
        "outputId": "b147257d-0e2a-4ce6-efae-068e92800f53"
      },
      "execution_count": 7,
      "outputs": [
        {
          "output_type": "stream",
          "name": "stdout",
          "text": [
            "<_io.TextIOWrapper name='data.txt' mode='r' encoding='utf-8'>\n",
            "data in the file: Hi , my name is ankita agarwal\n",
            "I am from goa.\n",
            "I am currently looking for a job.\n",
            "\n"
          ]
        }
      ]
    },
    {
      "cell_type": "code",
      "source": [
        "# 3. how would you handle a case where the file doesn't exists while trying to open it for reading?\n",
        "try:\n",
        "  f = open(\"log.csv\")\n",
        "  data=f.read()\n",
        "  print(data)\n",
        "except FileNotFoundError:\n",
        "    print(\"file does'nt exists\")\n",
        "else:\n",
        "      print(\"file open successfully\")\n",
        "finally:\n",
        "  # check if 'f' is defined before attempting to close it.\n",
        "  if 'f' in locals() and f:\n",
        "        f.close()"
      ],
      "metadata": {
        "id": "cXEr_KMyfbqF",
        "colab": {
          "base_uri": "https://localhost:8080/"
        },
        "outputId": "07ab6048-1819-45bf-9b9d-9f108e5420c2"
      },
      "execution_count": null,
      "outputs": [
        {
          "output_type": "stream",
          "name": "stdout",
          "text": [
            "file does'nt exists\n"
          ]
        }
      ]
    },
    {
      "cell_type": "code",
      "source": [
        "# 4. write a python script that reads from one file and write the content another file.\n",
        "print(\"\\n\")\n",
        "file1=open(\"data.txt\",'r')\n",
        "file2=open(\"log.txt\",'r')\n",
        "file2=open(\"log.txt\",'w')\n",
        "file2.write(file1.read())\n",
        "file2.close()\n",
        "file1.close()\n",
        "file2=open(\"log.txt\",'r')\n",
        "print(file2.read())\n",
        "file2.close()"
      ],
      "metadata": {
        "id": "aU7nWSilfbtm",
        "colab": {
          "base_uri": "https://localhost:8080/"
        },
        "outputId": "b7949a98-2967-4760-8350-d37cf2f01047"
      },
      "execution_count": 71,
      "outputs": [
        {
          "output_type": "stream",
          "name": "stdout",
          "text": [
            "\n",
            "\n",
            "Hi , my name is ankita agarwal\n",
            "I am from goa.\n",
            "I am currently looking for a job.\n",
            "\n",
            " i am learning python\n",
            " i am learning python\n",
            " i am a learner\n"
          ]
        }
      ]
    },
    {
      "cell_type": "code",
      "source": [
        "# 5. how would you cath hand division by zero error in python?\n",
        "try:\n",
        "  dividend = int(input(\"enter the dividend\"))\n",
        "  divisor = int(input(\"enter the divisor\"))\n",
        "  quotient = dividend// divisor\n",
        "  remainder= dividend % divisor\n",
        "except ZeroDivisionError:\n",
        "    print(\"divisor can not be zero\")\n",
        "else:\n",
        "      print(\"entered dividend is:\",dividend)\n",
        "      print(\"entered divisor is:\",divisor)\n",
        "      print(\"quotient is:\",quotient)\n",
        "      print(\"remainder is:\",remainder)\n",
        "finally:\n",
        "        print(\"I will always execute\")\n"
      ],
      "metadata": {
        "id": "_4rDtDp-fbxJ",
        "colab": {
          "base_uri": "https://localhost:8080/"
        },
        "outputId": "d75f8152-e9c9-45e6-d8a9-8634bab98b4f"
      },
      "execution_count": null,
      "outputs": [
        {
          "output_type": "stream",
          "name": "stdout",
          "text": [
            "enter the dividend9\n",
            "enter the divisor0\n",
            "divisor can not be zero\n",
            "I will always execute\n"
          ]
        }
      ]
    },
    {
      "cell_type": "code",
      "source": [
        "# 6. write a python program that logs an error message to a log file when a division by zero exception occurs\n",
        "try:\n",
        "  dividend=int(input(\"enter the dividend\"))\n",
        "  divisor=int(input(\"enter the divisor0\"))\n",
        "  quotient=dividend//divisor\n",
        "  remainder=dividend%divisor\n",
        "except ZeroDivisionError:\n",
        "    print(\"divisor can not be zero\")\n",
        "else:\n",
        "      print(\"entered dividend is:\",dividend)\n",
        "      print(\"enterd divisor is:\",divisor)\n",
        "      print(\"quotient is:\",quotient)\n",
        "      print(\"remainder is:\",remainder)\n",
        "finally:\n",
        "        print(\"i will always execute\")\n"
      ],
      "metadata": {
        "id": "h3oKy9XEfb0d",
        "colab": {
          "base_uri": "https://localhost:8080/"
        },
        "outputId": "28ae2733-ad9c-42ff-bc21-201f9d3d2d32"
      },
      "execution_count": 27,
      "outputs": [
        {
          "output_type": "stream",
          "name": "stdout",
          "text": [
            "enter the dividend9\n",
            "enter the divisor0\n",
            "divisor can not be zero\n",
            "i will always execute\n"
          ]
        }
      ]
    },
    {
      "cell_type": "code",
      "source": [
        "# 7. how do you log information at difference levels(INFO,ERROR,WARNING) in python using the logging module.\n",
        "import logging\n",
        "logging.basicConfig(level=logging.INFO,format='%(asctime)s-%(levelname)s-%(message)s')\n",
        "logging.info(\"starting the program\")\n",
        "try:\n",
        "  result=10/0\n",
        "except ZeroDivisionError:\n",
        "    logging.error(\"division by zero error\")\n",
        "    logging.exception(\"detailed exception information\")\n",
        "    logging.info(\"program finished succesfully\")"
      ],
      "metadata": {
        "id": "mbs5AAscQG5_",
        "colab": {
          "base_uri": "https://localhost:8080/"
        },
        "outputId": "be39a254-9c0c-49f4-942e-5d5e941e1420"
      },
      "execution_count": 68,
      "outputs": [
        {
          "output_type": "stream",
          "name": "stderr",
          "text": [
            "ERROR:root:division by zero error\n",
            "ERROR:root:detailed exception information\n",
            "Traceback (most recent call last):\n",
            "  File \"<ipython-input-68-279d5c542803>\", line 6, in <cell line: 0>\n",
            "    result=10/0\n",
            "           ~~^~\n",
            "ZeroDivisionError: division by zero\n"
          ]
        }
      ]
    },
    {
      "cell_type": "code",
      "source": [
        "# 8. write a program to handle a file opening error using exception handling.\n",
        "try:\n",
        "  f=open(\"log.csv\")\n",
        "  data=f.read()\n",
        "except FileNotFoundError:\n",
        "    print(\"file does not open\")\n",
        "else:\n",
        "      print(\"file open successfully\")"
      ],
      "metadata": {
        "colab": {
          "base_uri": "https://localhost:8080/"
        },
        "id": "s3eMtdcIQHFT",
        "outputId": "5c913970-8c36-40da-b2d5-c86b8c434ac3"
      },
      "execution_count": null,
      "outputs": [
        {
          "output_type": "stream",
          "name": "stdout",
          "text": [
            "file does not open\n"
          ]
        }
      ]
    },
    {
      "cell_type": "code",
      "source": [
        "# 9. how can you read a file line by line and store its content in list in python?\n",
        "def read_file_to_list(file_path):\n",
        " try:\n",
        "  with open(\"data..txt\",'r') as file:\n",
        "    content_list=file.readlines()\n",
        "  return content_list\n",
        " except FileNotFoundError:\n",
        "    print(\"the specified file was not found\")\n",
        "    return[]\n"
      ],
      "metadata": {
        "id": "HGjgQOD9QHIV"
      },
      "execution_count": 25,
      "outputs": []
    },
    {
      "cell_type": "code",
      "source": [
        "# 10. how can you append data to an existing file in python?\n",
        "f=open(\"data.txt\",\"a\")\n",
        "f.write(\"\\n i am learning python\")\n",
        "f.write(\"\\n i am a learner\")\n",
        "f.close()\n"
      ],
      "metadata": {
        "id": "9V95N790QHLR"
      },
      "execution_count": 28,
      "outputs": []
    },
    {
      "cell_type": "code",
      "source": [
        "# 11. write a python program that uses a try-except block to handle an error when attempting to access a dictionary key that doesn't exist\n",
        "dictionary = {\"these\":1,\"is\":2}\n",
        "\n",
        "try:\n",
        "    f=input(\"enter a word:\")\n",
        "    # access the dictionary with the input\n",
        "    value = dictionary[f]\n",
        "except KeyError:\n",
        "      print(\"key does not exists\")\n",
        "else:\n",
        "        print(\"key exists\")\n",
        "finally:\n",
        "       print(\"I will always execute\")"
      ],
      "metadata": {
        "colab": {
          "base_uri": "https://localhost:8080/"
        },
        "id": "a5nNCiMUQHOS",
        "outputId": "fcac9f48-ec1c-46ed-e895-ff3dfcdb3b09"
      },
      "execution_count": 16,
      "outputs": [
        {
          "output_type": "stream",
          "name": "stdout",
          "text": [
            "enter a word:are\n",
            "key does not exists\n",
            "I will always execute\n"
          ]
        }
      ]
    },
    {
      "cell_type": "code",
      "source": [
        "# 12. write a program that demonstrates using multiple execpt blocks to handle different type of execptions.\n",
        "try:\n",
        "  dividend=int(input('enter the dividend:'))\n",
        "  divisor=int(input('enter the dividend:'))\n",
        "  quotient=dividend//divisor\n",
        "  remainder=dividend%divisor\n",
        "except ZeroDivisionError:\n",
        "    print(\"divisor can not be zero\")\n",
        "except ValueError:\n",
        "      print(\"please enter a valid integer\")\n",
        "except Exception :\n",
        "        print(\"something went wrong\")\n",
        "else:\n",
        "          print(\"entered dividend is:\",dividend)\n",
        "          print(\"enterd divisor is:\",divisor)\n",
        "          print(\"quotient is:\",quotient)\n",
        "          print(\"remainder is:\",remainder)\n",
        "finally:\n",
        "            print(\"i will always execute\")"
      ],
      "metadata": {
        "colab": {
          "base_uri": "https://localhost:8080/"
        },
        "id": "gU1b4YS_QHRY",
        "outputId": "77b1c8f7-f012-4950-d08e-bd95dfa275b5"
      },
      "execution_count": 31,
      "outputs": [
        {
          "output_type": "stream",
          "name": "stdout",
          "text": [
            "enter the dividend:9\n",
            "enter the dividend:2\n",
            "entered dividend is: 9\n",
            "enterd divisor is: 2\n",
            "quotient is: 4\n",
            "remainder is: 1\n",
            "i will always execute\n"
          ]
        }
      ]
    },
    {
      "cell_type": "code",
      "source": [
        "# 13. how would you check if a file exists before attempting to read in python?\n",
        "import os\n",
        "#python check if file exists\n",
        "if os.path.exists(\"data.txt\"):\n",
        "   print(\"file exists\")\n",
        "else:\n",
        "  print(\"file not exists\")"
      ],
      "metadata": {
        "colab": {
          "base_uri": "https://localhost:8080/"
        },
        "id": "e7f46Qw8QHUv",
        "outputId": "4fa18280-7de8-409f-d5b8-0a578cf2cdaf"
      },
      "execution_count": 17,
      "outputs": [
        {
          "output_type": "stream",
          "name": "stdout",
          "text": [
            "file exists\n"
          ]
        }
      ]
    },
    {
      "cell_type": "code",
      "source": [
        "# 14. write a program that uses the logging module to log both informational and error message\n",
        "import logging\n",
        "# configure the logger\n",
        "logging.basicConfig(level=logging.INFO,Format='%(asctime)s-%(levelname)s-%(message)s')\n",
        "logging.info(\"starting the program\")\n",
        "# log an error message\n",
        "try:\n",
        "  result=10/0\n",
        "except ZeroDivisionError:\n",
        "    logging.error(\"division by zero error modulo\")\n",
        "    # you can also log the exception details\n",
        "    logging.exception(\"detailed exception information\")\n",
        "# log another informational message\n",
        "logging.info(\"program finished succesfully\")"
      ],
      "metadata": {
        "colab": {
          "base_uri": "https://localhost:8080/"
        },
        "id": "dBB3qiMMZKbO",
        "outputId": "95cdaa27-f2b4-4523-b5e1-e0b7c58f42c3"
      },
      "execution_count": 2,
      "outputs": [
        {
          "output_type": "stream",
          "name": "stderr",
          "text": [
            "ERROR:root:division by zero error modulo\n",
            "ERROR:root:detailed exception information\n",
            "Traceback (most recent call last):\n",
            "  File \"<ipython-input-2-ad73a6e73662>\", line 8, in <cell line: 0>\n",
            "    result=10/0\n",
            "           ~~^~\n",
            "ZeroDivisionError: division by zero\n"
          ]
        }
      ]
    },
    {
      "cell_type": "code",
      "source": [
        "# 15. write a python program that prints the content of a file and handles the case when the file is empty.\n",
        "with open (\"deta.txt\",\"r+\") as f:\n",
        "  f.seek(0)\n",
        "  if not f.read():\n",
        "    print(\"file is empty\")\n",
        "  else:\n",
        "      print(\"file is not empty\")\n"
      ],
      "metadata": {
        "id": "M4RXb37pZKeh",
        "colab": {
          "base_uri": "https://localhost:8080/"
        },
        "outputId": "0a06b1f1-f972-4253-df10-e135cdfedf3b"
      },
      "execution_count": 52,
      "outputs": [
        {
          "output_type": "stream",
          "name": "stdout",
          "text": [
            "file is empty\n"
          ]
        }
      ]
    },
    {
      "cell_type": "code",
      "source": [
        "# 16. demonstrate how to use memory profilling to check the memory usuage of a small program.\n",
        "!pip install memory_profiler\n",
        "import memory_profiler\n",
        "@memory_profiler.profile\n",
        "def create_large_list():\n",
        "  large_list=[]\n",
        "  for i in range(1000000):\n",
        "    large_list.append(i)\n",
        "    return large_list\n",
        "    create_large_list()\n",
        "    print(memory_profiler.memory_usuage())"
      ],
      "metadata": {
        "id": "iDe_UJ19Zuhv",
        "colab": {
          "base_uri": "https://localhost:8080/"
        },
        "outputId": "3a587edf-2d9c-4b6f-8e07-f9ca0bb3df1c"
      },
      "execution_count": 5,
      "outputs": [
        {
          "output_type": "stream",
          "name": "stdout",
          "text": [
            "Requirement already satisfied: memory_profiler in /usr/local/lib/python3.11/dist-packages (0.61.0)\n",
            "Requirement already satisfied: psutil in /usr/local/lib/python3.11/dist-packages (from memory_profiler) (5.9.5)\n"
          ]
        }
      ]
    },
    {
      "cell_type": "code",
      "source": [
        "# 17. write a python program to create a list of numbers to a file, one number per line.\n",
        "file_path=\"data.txt\"\n",
        "content=read_file_to_list(file_path)\n",
        "print(\"file content as a list\")\n",
        "print(content)"
      ],
      "metadata": {
        "id": "e9ciTqsMZutK",
        "colab": {
          "base_uri": "https://localhost:8080/"
        },
        "outputId": "b7e0a4ec-02b6-44c5-e19c-98a5956b350a"
      },
      "execution_count": 88,
      "outputs": [
        {
          "output_type": "stream",
          "name": "stdout",
          "text": [
            "file content as a list\n",
            "['Hi , my name is ankita agarwal\\n', 'I am from goa.\\n', 'I am currently looking for a job.\\n', '\\n', ' i am learning python\\n', ' i am learning python\\n', ' i am a learner']\n"
          ]
        }
      ]
    },
    {
      "cell_type": "code",
      "source": [],
      "metadata": {
        "id": "bbjXsrYpVWaQ"
      },
      "execution_count": null,
      "outputs": []
    },
    {
      "cell_type": "code",
      "source": [
        "# 18. how would you implement a basic logging setup that logs to a file with rotation after 1mb?\n",
        "import glob\n",
        "import logging\n",
        "import logging.handlers\n",
        "LOG_FILENAME=\"logging_rotatingfile_example.out\"\n",
        "# use 'getlogger' instead of 'getlogger'\n",
        "my_logger=logging.getLogger(\"my logger\")\n",
        "my_logger.setLevel(logging.DEBUG)\n",
        "handler=logging.handlers.RotatingFileHandler(LOG_FILENAME,maxBytes=1000000,backupCount=5)\n",
        "my_logger.addHandler(handler)\n",
        "for i in range(20):\n",
        "  my_logger.debug('i=%d'%i)\n",
        "  logfiles=glob.glob('%s*'% LOG_FILENAME)\n",
        "  for filename in logfiles:\n",
        "    print(filename)\n"
      ],
      "metadata": {
        "id": "m29XNtGMaU0F",
        "colab": {
          "base_uri": "https://localhost:8080/"
        },
        "outputId": "a50c893b-8828-4dae-b9be-3a22374b8a79"
      },
      "execution_count": 85,
      "outputs": [
        {
          "output_type": "stream",
          "name": "stderr",
          "text": [
            "DEBUG:my logger:i=0\n",
            "DEBUG:my logger:i=1\n",
            "DEBUG:my logger:i=2\n",
            "DEBUG:my logger:i=3\n",
            "DEBUG:my logger:i=4\n",
            "DEBUG:my logger:i=5\n",
            "DEBUG:my logger:i=6\n",
            "DEBUG:my logger:i=7\n",
            "DEBUG:my logger:i=8\n",
            "DEBUG:my logger:i=9\n",
            "DEBUG:my logger:i=10\n",
            "DEBUG:my logger:i=11\n",
            "DEBUG:my logger:i=12\n",
            "DEBUG:my logger:i=13\n",
            "DEBUG:my logger:i=14\n",
            "DEBUG:my logger:i=15\n",
            "DEBUG:my logger:i=16\n",
            "DEBUG:my logger:i=17\n",
            "DEBUG:my logger:i=18\n",
            "DEBUG:my logger:i=19\n"
          ]
        },
        {
          "output_type": "stream",
          "name": "stdout",
          "text": [
            "logging_rotatingfile_example.out\n",
            "logging_rotatingfile_example.out\n",
            "logging_rotatingfile_example.out\n",
            "logging_rotatingfile_example.out\n",
            "logging_rotatingfile_example.out\n",
            "logging_rotatingfile_example.out\n",
            "logging_rotatingfile_example.out\n",
            "logging_rotatingfile_example.out\n",
            "logging_rotatingfile_example.out\n",
            "logging_rotatingfile_example.out\n",
            "logging_rotatingfile_example.out\n",
            "logging_rotatingfile_example.out\n",
            "logging_rotatingfile_example.out\n",
            "logging_rotatingfile_example.out\n",
            "logging_rotatingfile_example.out\n",
            "logging_rotatingfile_example.out\n",
            "logging_rotatingfile_example.out\n",
            "logging_rotatingfile_example.out\n",
            "logging_rotatingfile_example.out\n",
            "logging_rotatingfile_example.out\n"
          ]
        }
      ]
    },
    {
      "cell_type": "code",
      "source": [
        "# 19. write a program that handles both index error and keyerror using a try block execpt block.\n",
        "dictionary ={\"these\":1,\"is\":2}\n",
        "try:\n",
        "  f = input('enter a word:')\n",
        "  # access the dictionary with input\n",
        "  value= dictionary[f]\n",
        "  index = dictionary['key']\n",
        "except IndexError:\n",
        "    print(\"error: index is out of range\")\n",
        "except KeyError:\n",
        "      print(\"error: key is not exists\")\n",
        "else:\n",
        "        print(\"index is range\")\n",
        "        print(\"key is exists\")\n",
        "finally:\n",
        "          print(\"I will always execute\")"
      ],
      "metadata": {
        "colab": {
          "base_uri": "https://localhost:8080/"
        },
        "id": "jwtf9D9TaVAm",
        "outputId": "2ca6bd4f-7fec-4029-a202-3905288b986a"
      },
      "execution_count": null,
      "outputs": [
        {
          "output_type": "stream",
          "name": "stdout",
          "text": [
            "enter a word:are\n",
            "error: key is not exists\n",
            "I will always execute\n"
          ]
        }
      ]
    },
    {
      "cell_type": "code",
      "source": [
        "# 20. how would you open a file and read its content using a content manager in python?\n",
        "with open(\"data.txt\",'r') as f:\n",
        "  content=f.read()\n",
        "  print(content)"
      ],
      "metadata": {
        "id": "NcvuB6HiaVJr",
        "colab": {
          "base_uri": "https://localhost:8080/"
        },
        "outputId": "f3aae8a6-ba1e-4308-d7cb-17b79fcffab9"
      },
      "execution_count": 55,
      "outputs": [
        {
          "output_type": "stream",
          "name": "stdout",
          "text": [
            "Hi , my name is ankita agarwal\n",
            "I am from goa.\n",
            "I am currently looking for a job.\n",
            "\n",
            " i am learning python\n",
            " i am learning python\n",
            " i am a learner\n"
          ]
        }
      ]
    },
    {
      "cell_type": "code",
      "source": [
        "# 21.write a python program that reads a file and prints the numb er of occurance of a specific word.\n",
        "f = open(\"data.txt\",\"r\")\n",
        "print(f\"current position of the file pointer:\",f.tell())\n",
        "data=f.readline()\n",
        "print(\"data in the file:\",data)\n",
        "print(\"current position of the file pointer:\",f.tell())\n",
        "data=f.readline()\n",
        "print(\"data in the file:\",data)\n",
        "print(f\"current position of the file pointer:\",f.tell())\n",
        "f.close()\n"
      ],
      "metadata": {
        "colab": {
          "base_uri": "https://localhost:8080/"
        },
        "id": "-7DLDHdoCQhl",
        "outputId": "0321ca3c-b00c-4703-9819-c2bce0157a9e"
      },
      "execution_count": 62,
      "outputs": [
        {
          "output_type": "stream",
          "name": "stdout",
          "text": [
            "current position of the file pointer: 0\n",
            "data in the file: Hi , my name is ankita agarwal\n",
            "\n",
            "current position of the file pointer: 31\n",
            "data in the file: I am from goa.\n",
            "\n",
            "current position of the file pointer: 46\n"
          ]
        }
      ]
    },
    {
      "cell_type": "code",
      "source": [
        "# 22. how can you check if a file is empty before attempting to read its content?\n",
        "with open (\"deta.txt\",'r') as f:\n",
        "  f.seek(0)\n",
        "  if not f.read():\n",
        "    print(\"no text,file is empty\")\n",
        "  else:\n",
        "      print(\"got text,file is not empty\")"
      ],
      "metadata": {
        "colab": {
          "base_uri": "https://localhost:8080/"
        },
        "id": "mIkaLBh0EyDc",
        "outputId": "ee3d57fb-e889-4e4e-b293-85d37106be64"
      },
      "execution_count": 58,
      "outputs": [
        {
          "output_type": "stream",
          "name": "stdout",
          "text": [
            "no text,file is empty\n"
          ]
        }
      ]
    },
    {
      "cell_type": "code",
      "source": [
        "# 23. write a python program that writes a log file when an error occurs during file handling\n",
        "import logging\n",
        "logging.basicConfig(filename='app.log',level=logging.DEBUG,format='%(asctime)s-%(name)s-%(levelname)s')\n",
        "logging.debug(\"this is debug message\")\n",
        "logging.error(\"this is an error message\")\n",
        "logging.warning(\"this is a warning message\")\n",
        "logging.info(\"this is an info message\")\n",
        "a=\"text\"\n",
        "try:\n",
        "  logging.info(str(a**2))\n",
        "except TypeError:\n",
        "    logging.error(\"the variable is not numeric\")\n",
        "    logging.shutdown()"
      ],
      "metadata": {
        "colab": {
          "base_uri": "https://localhost:8080/"
        },
        "id": "0zQmWHoSF6cj",
        "outputId": "7734a925-2e21-4182-fe12-80c82079db6d"
      },
      "execution_count": 87,
      "outputs": [
        {
          "output_type": "stream",
          "name": "stderr",
          "text": [
            "ERROR:root:this is an error message\n",
            "WARNING:root:this is a warning message\n",
            "ERROR:root:the variable is not numeric\n"
          ]
        }
      ]
    }
  ]
}